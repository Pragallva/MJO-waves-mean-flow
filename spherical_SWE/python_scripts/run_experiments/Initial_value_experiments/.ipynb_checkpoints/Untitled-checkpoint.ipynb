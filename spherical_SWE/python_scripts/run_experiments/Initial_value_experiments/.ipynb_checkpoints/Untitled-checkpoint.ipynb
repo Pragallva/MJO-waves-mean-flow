{
 "cells": [
  {
   "cell_type": "code",
   "execution_count": 1,
   "id": "4cd85d02-0953-450a-ab67-0580b49593c2",
   "metadata": {},
   "outputs": [],
   "source": [
    "import numpy as np\n",
    "import scipy.special as special\n",
    "import pylab as py"
   ]
  },
  {
   "cell_type": "code",
   "execution_count": 2,
   "id": "c9a51914-18cb-42d8-a91f-9699f24fbf0f",
   "metadata": {},
   "outputs": [],
   "source": [
    "def Dn(n = 0, y=0, yT=10,  c = 50):\n",
    "    beta = 2* 7.29*10**-5/6371e3,\n",
    "    return special.pbdv(n, np.sqrt(2)*y/yT)[0]"
   ]
  },
  {
   "cell_type": "code",
   "execution_count": 3,
   "id": "88ee8513-f5a3-4377-a5ae-9dddd2f50e81",
   "metadata": {},
   "outputs": [],
   "source": [
    "lat = np.arange(-90,100,10)\n",
    "lon = np.arange(0,400,40)\n",
    "lon, lat = np.meshgrid(lon, lat)"
   ]
  },
  {
   "cell_type": "code",
   "execution_count": 14,
   "id": "bcb9fb72-0618-46df-9a5f-5329c260161c",
   "metadata": {},
   "outputs": [
    {
     "data": {
      "text/plain": [
       "<matplotlib.contour.QuadContourSet at 0x7fcc98ee7fa0>"
      ]
     },
     "execution_count": 14,
     "metadata": {},
     "output_type": "execute_result"
    },
    {
     "data": {
      "image/png": "[encoded data removed]",
      "text/plain": [
       "<Figure size 432x288 with 1 Axes>"
      ]
     },
     "metadata": {
      "needs_background": "light"
     },
     "output_type": "display_data"
    }
   ],
   "source": [
    "DD0 = Dn(0, lat, 20)*np.sin(2*np.deg2rad(lon-180))\n",
    "py.contourf(lon, lat, DD0, cmap=py.cm.seismic)"
   ]
  },
  {
   "cell_type": "code",
   "execution_count": 17,
   "id": "380d9a3a-c78f-45d7-955c-c83c857500b8",
   "metadata": {},
   "outputs": [],
   "source": [
    "beta = 2* 7.29*10**-5/6371e3\n",
    "c    = 50"
   ]
  },
  {
   "cell_type": "code",
   "execution_count": 18,
   "id": "a3398391-1fb0-4e84-8f82-7bdea7d01ba0",
   "metadata": {},
   "outputs": [],
   "source": [
    "r = np.sqrt(c/beta)"
   ]
  },
  {
   "cell_type": "code",
   "execution_count": 22,
   "id": "bc105b0f-c2dd-4eff-91f2-a3b6f4ec0512",
   "metadata": {},
   "outputs": [
    {
     "data": {
      "text/plain": [
       "13.293063215210761"
      ]
     },
     "execution_count": 22,
     "metadata": {},
     "output_type": "execute_result"
    }
   ],
   "source": [
    "np.rad2deg(r/6371e3)"
   ]
  },
  {
   "cell_type": "code",
   "execution_count": null,
   "id": "3fa7f0d4-bd7e-4d60-9e13-5493958e757c",
   "metadata": {},
   "outputs": [],
   "source": []
  }
 ],
 "metadata": {
  "kernelspec": {
   "display_name": "Python 3",
   "language": "python",
   "name": "python3"
  },
  "language_info": {
   "codemirror_mode": {
    "name": "ipython",
    "version": 3
   },
   "file_extension": ".py",
   "mimetype": "text/x-python",
   "name": "python",
   "nbconvert_exporter": "python",
   "pygments_lexer": "ipython3",
   "version": "3.8.8"
  }
 },
 "nbformat": 4,
 "nbformat_minor": 5
}
