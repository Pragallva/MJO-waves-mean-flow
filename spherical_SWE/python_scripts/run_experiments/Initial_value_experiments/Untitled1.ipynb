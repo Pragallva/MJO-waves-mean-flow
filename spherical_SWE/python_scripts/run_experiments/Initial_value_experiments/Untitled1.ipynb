{
 "cells": [
  {
   "cell_type": "code",
   "execution_count": 6,
   "id": "3c7a11dc-eb07-4611-9af3-0c04524d74cb",
   "metadata": {},
   "outputs": [
    {
     "name": "stdout",
     "output_type": "stream",
     "text": [
      "spatial_data.hdf5\n"
     ]
    }
   ],
   "source": [
    "ls /data/pbarpanda/spherical_SWE/initial_value_exps/Kelvin_wave//Hmean_200//H0_0/"
   ]
  },
  {
   "cell_type": "code",
   "execution_count": 5,
   "id": "27559148-2dcd-4517-90df-8ef9afa664a3",
   "metadata": {},
   "outputs": [],
   "source": [
    "import numpy as np\n",
    "import shtns\n",
    "import pylab as py\n",
    "import matplotlib\n",
    "from tqdm import tqdm\n",
    "import sys\n",
    "\n",
    "sys.path.append('/data/pbarpanda/python_scripts/modules/')\n",
    "import logruns as logruns\n",
    "import save_and_load_hdf5_files as h5saveload\n",
    "import eulerian_fluxes as eflux\n",
    "import netcdf_utilities as ncutil\n",
    "import os\n",
    "os.environ[\"HDF5_USE_FILE_LOCKING\"] = 'FALSE'\n",
    "from tqdm import tqdm\n",
    "import glob\n",
    "from PIL import Image\n",
    "\n",
    "import numpy as np\n",
    "import shtns\n",
    "import pylab as py\n",
    "import matplotlib\n",
    "from tqdm import tqdm\n",
    "import sys\n",
    "import time as ti\n",
    "\n",
    "sys.path.append('/data/pbarpanda/python_scripts/modules/')\n",
    "import logruns as logruns\n",
    "import save_and_load_hdf5_files as h5saveload\n",
    "import eulerian_fluxes as eflux\n",
    "import netcdf_utilities as ncutil\n",
    "from obspy.geodetics import kilometers2degrees\n",
    "import momentum_advection_class as momentum_advect\n",
    "from PIL import Image\n",
    "import imageio\n",
    "from IPython.display import Video\n",
    "\n",
    "import matplotlib as mpl\n",
    "from cycler import cycler\n",
    "\n",
    "mpl.rcParams['figure.facecolor'] = 'white'\n",
    "mpl.rcParams['figure.edgecolor'] = 'black'\n",
    "mpl.rcParams['figure.dpi'] = 100\n",
    "mpl.rcParams['axes.facecolor'] = 'white'\n",
    "mpl.rcParams['axes.edgecolor'] = 'black'\n",
    "mpl.rcParams['xtick.color'] = 'black'\n",
    "mpl.rcParams['ytick.color'] = 'black'\n",
    "mpl.rcParams['lines.color'] = 'black'\n",
    "\n",
    "\n",
    "import os\n",
    "os.environ[\"HDF5_USE_FILE_LOCKING\"] = 'FALSE'  ### This is because NOAA PSL lab computers are somehow not able to use \n",
    "\n",
    "cmap = matplotlib.colors.LinearSegmentedColormap.from_list(\"\", \n",
    "      [  \"darkred\", \"darkorange\", \"pink\", \"white\", \"white\",\"skyblue\", \"dodgerblue\", \"navy\"][::-1])\n",
    "\n",
    "def colorbar(fontsize=20):\n",
    "    cbar = py.colorbar()\n",
    "    for t in cbar.ax.get_yticklabels():\n",
    "         t.set_fontsize(fontsize)\n",
    "            \n",
    "import warnings\n",
    "warnings.filterwarnings('ignore')\n",
    "\n",
    "import os\n",
    "import glob\n",
    "\n",
    "def remove_files(direc):\n",
    "    files = glob.glob(direc, recursive=True)\n",
    "\n",
    "    for f in files:\n",
    "        try:\n",
    "            os.remove(f)\n",
    "        except OSError as e:\n",
    "            print(\"Error: %s : %s\" % (f, e.strerror))"
   ]
  },
  {
   "cell_type": "code",
   "execution_count": 7,
   "id": "5dede203-051e-4f67-8748-5fdfafda2c9b",
   "metadata": {},
   "outputs": [],
   "source": [
    "def eddy(X):\n",
    "    return X-X.mean(axis=-1)[...,None]\n",
    "\n",
    "\n",
    "def eddy(X):\n",
    "    return X-X.mean(axis=-1)[...,None]\n",
    "\n",
    "def t_eddy(X):\n",
    "    return X-X.mean(axis=0)[None,...]\n",
    "\n",
    "def locate(Y, x, gap=0.1):\n",
    "    index = np.where(np.abs(Y-x) < gap)[0][0]\n",
    "    return index\n",
    "\n",
    "def locate(Y, x, gap=None):\n",
    "    if gap is None:\n",
    "        gap = 0.5*np.abs(np.diff(Y))[0] \n",
    "    index = np.where(np.abs(Y-x) <= gap)[0][0]\n",
    "    return index"
   ]
  },
  {
   "cell_type": "code",
   "execution_count": 9,
   "id": "6c21a01e-5c8f-4bea-9d7d-607eca33f633",
   "metadata": {},
   "outputs": [
    {
     "name": "stderr",
     "output_type": "stream",
     "text": [
      "100%|██████████| 1/1 [00:03<00:00,  3.03s/it]\n"
     ]
    }
   ],
   "source": [
    "##### This is to analyze experiments for H0 = 500\n",
    "for H0 in tqdm([0]):\n",
    "    for Hmean in [200]:\n",
    "        source = '/data/pbarpanda/spherical_SWE/initial_value_exps/Kelvin_wave/Hmean_%d/H0_%d/'%(Hmean, H0)\n",
    "        if os.path.exists(source):\n",
    "            vars()['H0_%d_Hmean_%d'%(H0, Hmean)] = h5saveload.load_dict_from_hdf5(source+'spatial_data.hdf5')\n",
    "        else:\n",
    "            print ('H0_%d_Hmean_%d  does not exist yet'%(H0, Hmean))\n"
   ]
  },
  {
   "cell_type": "code",
   "execution_count": 10,
   "id": "3f7c94c5-44d9-4565-83d4-119e625e4651",
   "metadata": {},
   "outputs": [],
   "source": [
    "dicti = vars()['H0_%d_Hmean_%d'%(H0, Hmean)]"
   ]
  },
  {
   "cell_type": "code",
   "execution_count": 17,
   "id": "a7950a41-d776-444b-ab34-f2bae328f257",
   "metadata": {},
   "outputs": [
    {
     "data": {
      "text/plain": [
       "<matplotlib.colorbar.Colorbar at 0x7f8b80bec4f0>"
      ]
     },
     "execution_count": 17,
     "metadata": {},
     "output_type": "execute_result"
    },
    {
     "data": {
      "image/png": "[encoded data removed]",
      "text/plain": [
       "<Figure size 600x400 with 2 Axes>"
      ]
     },
     "metadata": {},
     "output_type": "display_data"
    }
   ],
   "source": [
    "lon, lat = np.rad2deg(dicti['lons']), np.rad2deg(dicti['lats'])\n",
    "py.contourf( lon, lat, eddy(dicti['U'][5,...]) ); py.colorbar()"
   ]
  },
  {
   "cell_type": "code",
   "execution_count": 18,
   "id": "b567bb99-20bf-4526-a388-9f4b80ee94b8",
   "metadata": {},
   "outputs": [
    {
     "data": {
      "text/plain": [
       "(144, 128, 256)"
      ]
     },
     "execution_count": 18,
     "metadata": {},
     "output_type": "execute_result"
    }
   ],
   "source": [
    "dicti['U'].shape"
   ]
  },
  {
   "cell_type": "code",
   "execution_count": 28,
   "id": "ead1c13b-1eda-48d9-95d1-d24c07a73600",
   "metadata": {},
   "outputs": [
    {
     "name": "stdout",
     "output_type": "stream",
     "text": [
      "003.1\n"
     ]
    }
   ],
   "source": [
    "print(str(3.1).zfill(5))"
   ]
  },
  {
   "cell_type": "code",
   "execution_count": 31,
   "id": "763363a0-7135-406a-8e94-ed9006e42f1c",
   "metadata": {},
   "outputs": [
    {
     "ename": "TypeError",
     "evalue": "not all arguments converted during string formatting",
     "output_type": "error",
     "traceback": [
      "\u001b[0;31m---------------------------------------------------------------------------\u001b[0m",
      "\u001b[0;31mTypeError\u001b[0m                                 Traceback (most recent call last)",
      "\u001b[0;32m<ipython-input-31-86fee59ac30c>\u001b[0m in \u001b[0;36m<module>\u001b[0;34m\u001b[0m\n\u001b[0;32m----> 1\u001b[0;31m \u001b[0;34m(\u001b[0m\u001b[0;34m'1.2f'\u001b[0m\u001b[0;34m%\u001b[0m\u001b[0;34m(\u001b[0m\u001b[0;36m1\u001b[0m\u001b[0;34m/\u001b[0m\u001b[0;34m(\u001b[0m\u001b[0;36m24\u001b[0m\u001b[0;34m*\u001b[0m\u001b[0;36m3600\u001b[0m\u001b[0;34m)\u001b[0m\u001b[0;34m)\u001b[0m\u001b[0;34m)\u001b[0m\u001b[0;34m\u001b[0m\u001b[0;34m\u001b[0m\u001b[0m\n\u001b[0m",
      "\u001b[0;31mTypeError\u001b[0m: not all arguments converted during string formatting"
     ]
    }
   ],
   "source": [
    "'1.2f'%1/(24*3600)"
   ]
  },
  {
   "cell_type": "code",
   "execution_count": null,
   "id": "2d48bc71-f030-45b1-9a98-9c0cb2f34d15",
   "metadata": {},
   "outputs": [],
   "source": []
  }
 ],
 "metadata": {
  "kernelspec": {
   "display_name": "Python 3",
   "language": "python",
   "name": "python3"
  },
  "language_info": {
   "codemirror_mode": {
    "name": "ipython",
    "version": 3
   },
   "file_extension": ".py",
   "mimetype": "text/x-python",
   "name": "python",
   "nbconvert_exporter": "python",
   "pygments_lexer": "ipython3",
   "version": "3.8.8"
  }
 },
 "nbformat": 4,
 "nbformat_minor": 5
}
