{
 "cells": [
  {
   "cell_type": "code",
   "execution_count": 1,
   "id": "8d2ac040-c23b-4ae0-b30c-a794d89f28aa",
   "metadata": {},
   "outputs": [],
   "source": [
    "import numpy as np\n",
    "import shtns\n",
    "import pylab as py\n",
    "import matplotlib\n",
    "from tqdm import tqdm\n",
    "import sys\n",
    "import time as ti\n",
    "\n",
    "sys.path.append('/data/pbarpanda/python_scripts/modules/')\n",
    "import logruns as logruns\n",
    "import save_and_load_hdf5_files as h5saveload\n",
    "import eulerian_fluxes as eflux\n",
    "import netcdf_utilities as ncutil\n",
    "from obspy.geodetics import kilometers2degrees\n",
    "import momentum_advection_class as momentum_advect"
   ]
  },
  {
   "cell_type": "code",
   "execution_count": 4,
   "id": "7e8cf74f-682b-4250-abf8-8eef9060a411",
   "metadata": {},
   "outputs": [
    {
     "name": "stdout",
     "output_type": "stream",
     "text": [
      "/Projects/era5_regrid/2p5/vort.200.2p5.nc\n"
     ]
    }
   ],
   "source": [
    "ls /Projects/era5_regrid/2p5/vort.200.2p5.nc"
   ]
  },
  {
   "cell_type": "code",
   "execution_count": null,
   "id": "d405877c-5bf1-4498-b9e6-84e53b095e4d",
   "metadata": {},
   "outputs": [],
   "source": [
    "ls /Projects/era5/"
   ]
  },
  {
   "cell_type": "code",
   "execution_count": null,
   "id": "48f2057f-983a-4a16-bd1b-2942b706511f",
   "metadata": {},
   "outputs": [],
   "source": []
  }
 ],
 "metadata": {
  "kernelspec": {
   "display_name": "Python 3",
   "language": "python",
   "name": "python3"
  },
  "language_info": {
   "codemirror_mode": {
    "name": "ipython",
    "version": 3
   },
   "file_extension": ".py",
   "mimetype": "text/x-python",
   "name": "python",
   "nbconvert_exporter": "python",
   "pygments_lexer": "ipython3",
   "version": "3.8.8"
  }
 },
 "nbformat": 4,
 "nbformat_minor": 5
}
