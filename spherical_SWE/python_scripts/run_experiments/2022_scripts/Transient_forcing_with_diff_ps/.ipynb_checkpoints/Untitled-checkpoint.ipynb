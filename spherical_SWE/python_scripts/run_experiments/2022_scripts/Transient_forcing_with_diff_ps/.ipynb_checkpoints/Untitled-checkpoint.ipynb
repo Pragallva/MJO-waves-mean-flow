{
 "cells": [
  {
   "cell_type": "code",
   "execution_count": 5,
   "id": "7af8bc28-ea7f-40c6-a2ac-8f99e3dcf4b1",
   "metadata": {},
   "outputs": [
    {
     "name": "stdout",
     "output_type": "stream",
     "text": [
      "input_file.hdf5    spatial_data.hdf5\n"
     ]
    }
   ],
   "source": [
    "ls /data/pbarpanda/spherical_SWE/evaluate_final_budget/transient_U_propagate_forcing_diff_Heq_nudged_U/dt_150_Q_forcing_10_forcing_y_0_Hmean_200_forcing_phase_speed_0_ms/U_up_days_800/H0_2500/"
   ]
  },
  {
   "cell_type": "code",
   "execution_count": null,
   "id": "d6f699c5-cce5-41d4-8abd-d817e3f00966",
   "metadata": {},
   "outputs": [],
   "source": [
    "source = '/data/pbarpanda/spherical_SWE/evaluate_final_budget/transient_U_propagate_forcing_diff_Heq_nudged_U/dt_150_Q_forcing_10_forcing_y_0_Hmean_200_forcing_phase_speed_0_ms/U_up_days_800/H0_2500/'"
   ]
  }
 ],
 "metadata": {
  "kernelspec": {
   "display_name": "Python 3",
   "language": "python",
   "name": "python3"
  },
  "language_info": {
   "codemirror_mode": {
    "name": "ipython",
    "version": 3
   },
   "file_extension": ".py",
   "mimetype": "text/x-python",
   "name": "python",
   "nbconvert_exporter": "python",
   "pygments_lexer": "ipython3",
   "version": "3.8.8"
  }
 },
 "nbformat": 4,
 "nbformat_minor": 5
}
