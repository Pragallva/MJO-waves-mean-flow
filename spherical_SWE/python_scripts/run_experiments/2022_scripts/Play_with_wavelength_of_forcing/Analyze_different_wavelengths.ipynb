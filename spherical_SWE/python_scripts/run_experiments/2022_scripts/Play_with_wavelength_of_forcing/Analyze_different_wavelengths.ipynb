{
 "cells": [
  {
   "cell_type": "code",
   "execution_count": 103,
   "id": "cb09f89d-9da0-4b52-b01c-b9e7cd188f78",
   "metadata": {},
   "outputs": [],
   "source": [
    "import numpy as np\n",
    "import shtns\n",
    "import pylab as py\n",
    "import matplotlib\n",
    "from tqdm import tqdm\n",
    "import sys\n",
    "\n",
    "sys.path.append('/data/pbarpanda/python_scripts/modules/')\n",
    "import logruns as logruns\n",
    "import save_and_load_hdf5_files as h5saveload\n",
    "import eulerian_fluxes as eflux\n",
    "import netcdf_utilities as ncutil\n",
    "import os\n",
    "os.environ[\"HDF5_USE_FILE_LOCKING\"] = 'FALSE'\n",
    "from tqdm import tqdm\n",
    "import glob\n",
    "from PIL import Image\n",
    "\n",
    "import numpy as np\n",
    "import shtns\n",
    "import pylab as py\n",
    "import matplotlib\n",
    "from tqdm import tqdm\n",
    "import sys\n",
    "import time as ti\n",
    "\n",
    "sys.path.append('/data/pbarpanda/python_scripts/modules/')\n",
    "import logruns as logruns\n",
    "import save_and_load_hdf5_files as h5saveload\n",
    "import eulerian_fluxes as eflux\n",
    "import netcdf_utilities as ncutil\n",
    "from obspy.geodetics import kilometers2degrees\n",
    "import momentum_advection_class as momentum_advect\n",
    "from PIL import Image\n",
    "import imageio\n",
    "from IPython.display import Video\n",
    "\n",
    "import matplotlib as mpl\n",
    "from cycler import cycler\n",
    "\n",
    "mpl.rcParams['figure.facecolor'] = 'white'\n",
    "mpl.rcParams['figure.edgecolor'] = 'black'\n",
    "mpl.rcParams['figure.dpi'] = 100\n",
    "mpl.rcParams['axes.facecolor'] = 'white'\n",
    "mpl.rcParams['axes.edgecolor'] = 'black'\n",
    "mpl.rcParams['xtick.color'] = 'black'\n",
    "mpl.rcParams['ytick.color'] = 'black'\n",
    "mpl.rcParams['lines.color'] = 'black'\n",
    "\n",
    "\n",
    "import os\n",
    "os.environ[\"HDF5_USE_FILE_LOCKING\"] = 'FALSE'  ### This is because NOAA PSL lab computers are somehow not able to use \n",
    "\n",
    "cmap = matplotlib.colors.LinearSegmentedColormap.from_list(\"\", \n",
    "      [  \"darkred\", \"darkorange\", \"pink\", \"white\", \"white\",\"skyblue\", \"dodgerblue\", \"navy\"][::-1])\n",
    "\n",
    "def colorbar(fontsize=20):\n",
    "    cbar = py.colorbar()\n",
    "    for t in cbar.ax.get_yticklabels():\n",
    "         t.set_fontsize(fontsize)\n",
    "            \n",
    "import warnings\n",
    "warnings.filterwarnings('ignore')\n",
    "\n",
    "import os\n",
    "import glob\n",
    "\n",
    "def remove_files(direc):\n",
    "    files = glob.glob(direc, recursive=True)\n",
    "\n",
    "    for f in files:\n",
    "        try:\n",
    "            os.remove(f)\n",
    "        except OSError as e:\n",
    "            print(\"Error: %s : %s\" % (f, e.strerror))"
   ]
  },
  {
   "cell_type": "code",
   "execution_count": 104,
   "id": "dab09955-796c-495e-bc95-57e327a4f2df",
   "metadata": {},
   "outputs": [],
   "source": [
    "def eddy(X):\n",
    "    return X-X.mean(axis=-1)[...,None]\n",
    "\n",
    "\n",
    "def eddy(X):\n",
    "    return X-X.mean(axis=-1)[...,None]\n",
    "\n",
    "def t_eddy(X):\n",
    "    return X-X.mean(axis=0)[None,...]\n",
    "\n",
    "def locate(Y, x, gap=0.1):\n",
    "    index = np.where(np.abs(Y-x) < gap)[0][0]\n",
    "    return index\n",
    "\n",
    "def locate(Y, x, gap=None):\n",
    "    if gap is None:\n",
    "        gap = 0.5*np.abs(np.diff(Y))[0] \n",
    "    index = np.where(np.abs(Y-x) <= gap)[0][0]\n",
    "    return index"
   ]
  },
  {
   "cell_type": "code",
   "execution_count": 105,
   "id": "f1001000-e992-4649-ac8e-c6c3daf6f60d",
   "metadata": {},
   "outputs": [
    {
     "name": "stdout",
     "output_type": "stream",
     "text": [
      "\u001b[34mcombined_data_at_forcing_region\u001b[m\u001b[m/\n",
      "\u001b[34mcombined_data_at_forcing_region_constant_fluid_depth\u001b[m\u001b[m/\n",
      "\u001b[34mdifferent_forcing_WN_same_energy\u001b[m\u001b[m/\n",
      "\u001b[34mdt_150_Q_forcing_100_forcing_y_0_Hmean_200_forcing_phase_speed_5_ms\u001b[m\u001b[m/\n",
      "\u001b[34mdt_150_Q_forcing_100_forcing_y_0_Hmean_500_forcing_phase_speed_5_ms\u001b[m\u001b[m/\n",
      "\u001b[34mdt_150_Q_forcing_10_forcing_y_0_Hmean_200_forcing_phase_speed_5_ms\u001b[m\u001b[m/\n",
      "\u001b[34mdt_150_Q_forcing_10_forcing_y_0_Hmean_500_forcing_phase_speed_5_ms\u001b[m\u001b[m/\n",
      "\u001b[34mdt_150_Q_forcing_10_forcing_y_0_Hmean_800_forcing_phase_speed_5_ms\u001b[m\u001b[m/\n",
      "\u001b[34mdt_150_Q_forcing_500_forcing_y_0_Hmean_200_forcing_phase_speed_5_ms\u001b[m\u001b[m/\n",
      "\u001b[34mdt_150_Q_forcing_500_forcing_y_0_Hmean_500_forcing_phase_speed_5_ms\u001b[m\u001b[m/\n"
     ]
    }
   ],
   "source": [
    "ls /data/pbarpanda/spherical_SWE/evaluate_final_budget/linear_Q_forcing/"
   ]
  },
  {
   "cell_type": "code",
   "execution_count": 136,
   "id": "11822397-bb6f-4e70-85bd-b200fb5026ae",
   "metadata": {},
   "outputs": [],
   "source": [
    "# switch_on_day   = 60\n",
    "# switch_off_day  = switch_on_day + 120\n",
    "\n",
    "# switch_on_time  = switch_on_day*24*3600\n",
    "# switch_off_time = switch_off_day*24*3600\n",
    "\n",
    "\n",
    "################ TRANSIENT FORCING ###########################\n",
    "def time_time(alpha, ti):\n",
    "    tt = (ti - switch_on_time)/(24*3600)\n",
    "    if tt >= 0:\n",
    "        transient_effect = (0.5)*(alpha**3)*((tt)**2)*np.exp(-alpha*tt)*1\n",
    "    else:\n",
    "        transient_effect = 0 \n",
    "    return transient_effect\n",
    "##############################################################\n",
    "\n",
    "\n",
    "################ TRANSIENT FORCING ###########################\n",
    "def time_time2(alpha, ti, switch_on_day=80, gap=200 ):\n",
    "    \n",
    "    switch_on_day   = switch_on_day\n",
    "    switch_off_day  = switch_on_day + gap\n",
    "    \n",
    "    switch_on_time  = switch_on_day*24*3600\n",
    "    switch_off_time = switch_off_day*24*3600\n",
    "\n",
    "    \n",
    "    tt1 = (ti - switch_on_time)/(24*3600)\n",
    "    tt2 = (ti - switch_off_time)/(24*3600)\n",
    "\n",
    "    transient_effect1 = np.tanh(tt1/alpha)\n",
    "    transient_effect2 = np.tanh(tt2/alpha)\n",
    "    transient_effect = (transient_effect1 - transient_effect2)/2\n",
    "\n",
    "    return transient_effect\n",
    "##############################################################\n"
   ]
  },
  {
   "cell_type": "code",
   "execution_count": 155,
   "id": "f003e472-0a1e-454f-8fe4-a1496e6c346d",
   "metadata": {},
   "outputs": [
    {
     "name": "stdout",
     "output_type": "stream",
     "text": [
      "5 45 120\n",
      "20 80 120\n"
     ]
    }
   ],
   "source": [
    "for alpha, switch_on_day, keep_forcing_const_for  in zip([5, 20], [45, 80], [120, 120]):\n",
    "    print (alpha, switch_on_day, keep_forcing_const_for)"
   ]
  },
  {
   "cell_type": "code",
   "execution_count": 158,
   "id": "18664d9b-44d8-4a17-bb1b-3c2e3ff1906b",
   "metadata": {},
   "outputs": [
    {
     "name": "stdout",
     "output_type": "stream",
     "text": [
      "2879.99999909\n",
      "2879.91959695\n"
     ]
    },
    {
     "data": {
      "text/plain": [
       "<matplotlib.lines.Line2D at 0x7ff8657ffb20>"
      ]
     },
     "execution_count": 158,
     "metadata": {},
     "output_type": "execute_result"
    },
    {
     "data": {
      "image/png": "[encoded data removed]",
      "text/plain": [
       "<Figure size 600x400 with 1 Axes>"
      ]
     },
     "metadata": {},
     "output_type": "display_data"
    }
   ],
   "source": [
    "time = np.arange(0, 350*24*3600, 3600)\n",
    "# force_envelope = np.array([time_time(0.06, ti) for ti in time])\n",
    "# py.plot( time/(24*3600), force_envelope/0.01, 'r-')\n",
    "\n",
    "alpha = 5 #, #45, 120\n",
    "\n",
    "\n",
    "force_envelope = np.array([time_time2(alpha, ti, 45, 120) for ti in time])\n",
    "py.plot( time/(24*3600), force_envelope, '-')\n",
    "print(force_envelope.sum())\n",
    "\n",
    "alpha = 20 #, 80, 120\n",
    "force_envelope = np.array([time_time2(alpha, ti, 80, 120) for ti in time])\n",
    "py.plot( time/(24*3600), force_envelope, '-')\n",
    "print(force_envelope.sum())\n",
    "\n",
    "py.axvline(45)\n"
   ]
  },
  {
   "cell_type": "code",
   "execution_count": 144,
   "id": "bdf1b759-eecf-4080-9ee0-e0d222216daf",
   "metadata": {},
   "outputs": [
    {
     "data": {
      "text/plain": [
       "0.016240233988393523"
      ]
     },
     "execution_count": 144,
     "metadata": {},
     "output_type": "execute_result"
    }
   ],
   "source": [
    "(np.max(force_envelope))"
   ]
  },
  {
   "cell_type": "code",
   "execution_count": null,
   "id": "93a1a02b-e94d-4a54-8cea-a9fd1eed0963",
   "metadata": {},
   "outputs": [
    {
     "name": "stdout",
     "output_type": "stream",
     "text": [
      "/data/pbarpanda/spherical_SWE/evaluate_final_budget/linear_Q_forcing/different_forcing_WN/dt_150_Q_forcing_10_forcing_y_0_Hmean_500_forcing_phase_speed_5_ms_forcing_WN_1/dipole_heat_switch_on/H0_3000/\n"
     ]
    }
   ],
   "source": [
    "%%time\n",
    "\n",
    "loc=0\n",
    "##### This is to analyze experiments for H0 = 500\n",
    "# for H0 in tqdm([500, 750, 1000, 1500, 2000, 2500, 3000, 3500, 4000]):\n",
    "for H0 in [3000]:\n",
    "    for WN in [1, 3, 5, 8, 10]:\n",
    "          for Q0 in [10]:                \n",
    "            source = '/data/pbarpanda/spherical_SWE/evaluate_final_budget/linear_Q_forcing/different_forcing_WN/dt_150_Q_forcing_%d_forcing_y_%d_Hmean_500_forcing_phase_speed_5_ms_forcing_WN_%d/dipole_heat_switch_on/H0_%d/'%(Q0, loc, WN, H0)\n",
    "            print (source)\n",
    "            if os.path.exists(source):\n",
    "                vars()['Q0_%d_loc_%d_H0_%d_Hmean_500_WN_%d'%(Q0, loc, H0, WN)]           = h5saveload.load_dict_from_hdf5(source+'spatial_data.hdf5')\n",
    "                vars()['Q0_%d_loc_%d_H0_%d_Hmean_500__WN_%d_equation'%(Q0, loc, H0, WN)] = h5saveload.load_dict_from_hdf5(source+'equation_data.hdf5')\n",
    "            else:\n",
    "                print ('Q0_%d_loc_%d_H0_%d_Hmean_500_WN_%d  does not exist yet'%(Q0, loc, H0, WN))\n",
    "               "
   ]
  },
  {
   "cell_type": "code",
   "execution_count": 111,
   "id": "94095f3a-6ca1-460a-be08-7a4474fe0ee0",
   "metadata": {},
   "outputs": [],
   "source": [
    "ls  /data/pbarpanda/spherical_SWE/evaluate_final_budget/linear_Q_forcing/different_forcing_WN/"
   ]
  },
  {
   "cell_type": "code",
   "execution_count": 63,
   "id": "780722a3-6777-477f-b2db-b103ba26c647",
   "metadata": {},
   "outputs": [
    {
     "data": {
      "text/plain": [
       "(912, 128, 256)"
      ]
     },
     "execution_count": 63,
     "metadata": {},
     "output_type": "execute_result"
    }
   ],
   "source": [
    "Q0_10_loc_0_H0_3000_Hmean_500['phi_forcing'].shape"
   ]
  },
  {
   "cell_type": "code",
   "execution_count": 109,
   "id": "697f7733-99d6-44a0-8471-067ef5c2db86",
   "metadata": {},
   "outputs": [
    {
     "data": {
      "text/plain": [
       "<matplotlib.colorbar.Colorbar at 0x7fe58ba3aac0>"
      ]
     },
     "execution_count": 109,
     "metadata": {},
     "output_type": "execute_result"
    },
    {
     "data": {
      "image/png": "[encoded data removed]",
      "text/plain": [
       "<Figure size 600x400 with 2 Axes>"
      ]
     },
     "metadata": {},
     "output_type": "display_data"
    }
   ],
   "source": [
    "N=N+10\n",
    "py.contour(Q0_10_loc_0_H0_3000_Hmean_500['phi_forcing'][-N,...], cmap=cmap); py.colorbar()"
   ]
  },
  {
   "cell_type": "code",
   "execution_count": null,
   "id": "5f032561-b059-4424-abd7-061fa2b542a6",
   "metadata": {},
   "outputs": [],
   "source": []
  },
  {
   "cell_type": "code",
   "execution_count": null,
   "id": "2b0d70c1-d8d1-4578-9bd5-90bd11a60147",
   "metadata": {},
   "outputs": [],
   "source": []
  },
  {
   "cell_type": "code",
   "execution_count": null,
   "id": "1b45c069-2481-4509-bea1-16cf4e2b7068",
   "metadata": {},
   "outputs": [],
   "source": []
  }
 ],
 "metadata": {
  "kernelspec": {
   "display_name": "Python 3",
   "language": "python",
   "name": "python3"
  },
  "language_info": {
   "codemirror_mode": {
    "name": "ipython",
    "version": 3
   },
   "file_extension": ".py",
   "mimetype": "text/x-python",
   "name": "python",
   "nbconvert_exporter": "python",
   "pygments_lexer": "ipython3",
   "version": "3.8.8"
  }
 },
 "nbformat": 4,
 "nbformat_minor": 5
}
